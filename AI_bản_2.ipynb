{
  "nbformat": 4,
  "nbformat_minor": 0,
  "metadata": {
    "colab": {
      "provenance": [],
      "authorship_tag": "ABX9TyNwHp7S9IuuZShnGoNO9j0P",
      "include_colab_link": true
    },
    "kernelspec": {
      "name": "python3",
      "display_name": "Python 3"
    },
    "language_info": {
      "name": "python"
    }
  },
  "cells": [
    {
      "cell_type": "markdown",
      "metadata": {
        "id": "view-in-github",
        "colab_type": "text"
      },
      "source": [
        "<a href=\"https://colab.research.google.com/github/lletridung/baitapai/blob/main/AI_b%E1%BA%A3n_2.ipynb\" target=\"_parent\"><img src=\"https://colab.research.google.com/assets/colab-badge.svg\" alt=\"Open In Colab\"/></a>"
      ]
    },
    {
      "cell_type": "code",
      "execution_count": null,
      "metadata": {
        "id": "U_7VRE5JxJXd"
      },
      "outputs": [],
      "source": [
        "import numpy as np\n",
        "import matplotlib.pyplot as plt\n",
        "from tensorflow.keras.preprocessing.image import ImageDataGenerator, load_img, img_to_array\n",
        "from tensorflow.keras.models import Sequential, save_model\n",
        "from tensorflow.keras.layers import Conv2D, MaxPooling2D, Flatten, Dense\n",
        "from tensorflow.keras.optimizers import Adam\n",
        "from tensorflow.keras.losses import SparseCategoricalCrossentropy\n",
        "from os import listdir\n",
        "from numpy import asarray, save\n",
        "from google.colab import drive\n"
      ]
    },
    {
      "cell_type": "code",
      "source": [
        "drive.mount('/content/drive')\n",
        "folder = '/content/drive/MyDrive/AI_img_mix/'"
      ],
      "metadata": {
        "colab": {
          "base_uri": "https://localhost:8080/"
        },
        "id": "zLWdAg4ZxYT5",
        "outputId": "a5181d35-7be0-4ac3-8f50-3e36e6ed449f"
      },
      "execution_count": null,
      "outputs": [
        {
          "output_type": "stream",
          "name": "stdout",
          "text": [
            "Drive already mounted at /content/drive; to attempt to forcibly remount, call drive.mount(\"/content/drive\", force_remount=True).\n"
          ]
        }
      ]
    },
    {
      "cell_type": "code",
      "source": [
        "# Prepare the dataset\n",
        "def prepare_dataset(folder):\n",
        "    photos, labels = [], []\n",
        "    for file in listdir(folder):\n",
        "        photo = load_img(folder + file, target_size=(40, 30))\n",
        "        photo = img_to_array(photo)\n",
        "        photos.append(photo)\n",
        "        if file.startswith('dung'):\n",
        "            labels.append(0)\n",
        "        elif file.startswith('thinh'):\n",
        "            labels.append(1)\n",
        "        elif file.startswith('Tri'):\n",
        "            labels.append(2)\n",
        "        elif file.startswith('truc'):\n",
        "            labels.append(3)\n",
        "        elif file.startswith('anh'):\n",
        "            labels.append(4)\n",
        "    photos = asarray(photos)\n",
        "    labels = asarray(labels)\n",
        "    return photos, labels\n",
        "print(photos.shape, labels.shape)\n",
        "photos, labels = prepare_dataset(folder)"
      ],
      "metadata": {
        "colab": {
          "base_uri": "https://localhost:8080/"
        },
        "id": "CGL2a9nuxanU",
        "outputId": "a34ab215-876a-47ec-cd8c-63b029686517"
      },
      "execution_count": null,
      "outputs": [
        {
          "output_type": "stream",
          "name": "stdout",
          "text": [
            "(250, 40, 30, 3) (250,)\n"
          ]
        }
      ]
    },
    {
      "cell_type": "code",
      "source": [
        "# Save the arrays for future use\n",
        "save('dung_thinh_anh_tri_truc_photos.npy', photos)\n",
        "save('dung_thinh_anh_tri_truc_labels.npy', labels)"
      ],
      "metadata": {
        "id": "CFkQGQvG-TDF"
      },
      "execution_count": null,
      "outputs": []
    },
    {
      "cell_type": "code",
      "source": [
        "# Data augmentation\n",
        "data_augmentation = ImageDataGenerator(\n",
        "    rotation_range=20,\n",
        "    width_shift_range=0.2,\n",
        "    height_shift_range=0.2,\n",
        "    shear_range=0.2,\n",
        "    zoom_range=0.2,\n",
        "    horizontal_flip=True,\n",
        "    fill_mode='nearest',\n",
        ")"
      ],
      "metadata": {
        "id": "24biK-BqyYR1"
      },
      "execution_count": null,
      "outputs": []
    },
    {
      "cell_type": "code",
      "source": [
        "# Build the CNN model\n",
        "def create_cnn_model():\n",
        "    model = Sequential([\n",
        "        Conv2D(32, (3, 3), activation='relu', kernel_initializer='he_uniform', padding='same', input_shape=(40, 30, 3)),\n",
        "        MaxPooling2D((2, 2)),\n",
        "        Conv2D(64, (3, 3), activation='relu', kernel_initializer='he_uniform', padding='same'),\n",
        "        MaxPooling2D((2, 2)),\n",
        "        Conv2D(128, (3, 3), activation='relu', kernel_initializer='he_uniform', padding='same'),\n",
        "        MaxPooling2D((2, 2)),\n",
        "        Flatten(),\n",
        "        Dense(128, activation='relu'),\n",
        "        Dense(128, activation='relu'),\n",
        "        Dense(128, activation='relu'),\n",
        "        Dense(10, activation='softmax')\n",
        "    ])\n",
        "    return model\n",
        "\n",
        "model = create_cnn_model()\n",
        "\n",
        "# Compile and train the model\n",
        "model.compile(optimizer=Adam(), loss=SparseCategoricalCrossentropy(), metrics=['accuracy'])\n",
        "history = model.fit(data_augmentation.flow(photos, labels, batch_size=5), epochs=20, verbose=1)\n"
      ],
      "metadata": {
        "colab": {
          "base_uri": "https://localhost:8080/"
        },
        "id": "b83X9PvLymbL",
        "outputId": "1cd084e4-205c-46bc-ae94-34a24eac8e70"
      },
      "execution_count": null,
      "outputs": [
        {
          "output_type": "stream",
          "name": "stdout",
          "text": [
            "Epoch 1/20\n",
            "50/50 [==============================] - 3s 24ms/step - loss: 65.2123 - accuracy: 0.2680\n",
            "Epoch 2/20\n",
            "50/50 [==============================] - 1s 24ms/step - loss: 1.9775 - accuracy: 0.5240\n",
            "Epoch 3/20\n",
            "50/50 [==============================] - 1s 24ms/step - loss: 1.0590 - accuracy: 0.7120\n",
            "Epoch 4/20\n",
            "50/50 [==============================] - 1s 30ms/step - loss: 1.0073 - accuracy: 0.6880\n",
            "Epoch 5/20\n",
            "50/50 [==============================] - 2s 41ms/step - loss: 0.6103 - accuracy: 0.7880\n",
            "Epoch 6/20\n",
            "50/50 [==============================] - 1s 23ms/step - loss: 0.8408 - accuracy: 0.7640\n",
            "Epoch 7/20\n",
            "50/50 [==============================] - 1s 24ms/step - loss: 0.7505 - accuracy: 0.7720\n",
            "Epoch 8/20\n",
            "50/50 [==============================] - 1s 23ms/step - loss: 0.5023 - accuracy: 0.8200\n",
            "Epoch 9/20\n",
            "50/50 [==============================] - 1s 24ms/step - loss: 0.2757 - accuracy: 0.9000\n",
            "Epoch 10/20\n",
            "50/50 [==============================] - 1s 23ms/step - loss: 0.2565 - accuracy: 0.9240\n",
            "Epoch 11/20\n",
            "50/50 [==============================] - 1s 23ms/step - loss: 0.2801 - accuracy: 0.9080\n",
            "Epoch 12/20\n",
            "50/50 [==============================] - 1s 23ms/step - loss: 0.4076 - accuracy: 0.8600\n",
            "Epoch 13/20\n",
            "50/50 [==============================] - 1s 28ms/step - loss: 0.2979 - accuracy: 0.9120\n",
            "Epoch 14/20\n",
            "50/50 [==============================] - 2s 41ms/step - loss: 0.5705 - accuracy: 0.8640\n",
            "Epoch 15/20\n",
            "50/50 [==============================] - 2s 35ms/step - loss: 0.5738 - accuracy: 0.8200\n",
            "Epoch 16/20\n",
            "50/50 [==============================] - 1s 24ms/step - loss: 0.3982 - accuracy: 0.8800\n",
            "Epoch 17/20\n",
            "50/50 [==============================] - 1s 23ms/step - loss: 0.3943 - accuracy: 0.8880\n",
            "Epoch 18/20\n",
            "50/50 [==============================] - 1s 24ms/step - loss: 0.3441 - accuracy: 0.9040\n",
            "Epoch 19/20\n",
            "50/50 [==============================] - 1s 24ms/step - loss: 0.4749 - accuracy: 0.8520\n",
            "Epoch 20/20\n",
            "50/50 [==============================] - 2s 37ms/step - loss: 0.3762 - accuracy: 0.9000\n"
          ]
        }
      ]
    },
    {
      "cell_type": "code",
      "source": [
        "# Evaluate the model\n",
        "model.evaluate(photos, labels)\n",
        "\n",
        "# Save the model\n",
        "model.save('facerecognite.h5')"
      ],
      "metadata": {
        "colab": {
          "base_uri": "https://localhost:8080/"
        },
        "id": "tmBJmjcDzD1k",
        "outputId": "daae4305-72ad-4f01-b392-8561367ff2bb"
      },
      "execution_count": null,
      "outputs": [
        {
          "output_type": "stream",
          "name": "stdout",
          "text": [
            "8/8 [==============================] - 0s 25ms/step - loss: 0.8820 - accuracy: 0.7880\n"
          ]
        }
      ]
    },
    {
      "cell_type": "code",
      "source": [
        "# Test the model\n",
        "classes = [\"dung\", \"thinh\", \"truc\", \"Tri\", \"anh\"]\n",
        "img = load_img('/content/drive/MyDrive/AI_img_test/dung (60).jpg', target_size=(40, 30))\n",
        "plt.imshow(img)\n",
        "img_array = img_to_array(img)\n",
        "img_array = img_array.reshape(1, 40, 30, 3)\n",
        "img_array = img_array.astype('float32') / 255\n",
        "\n",
        "y_pred = model.predict(img_array)\n",
        "y_classes = np.argmax(y_pred)\n",
        "print(y_pred)\n",
        "print(classes[y_classes])"
      ],
      "metadata": {
        "colab": {
          "base_uri": "https://localhost:8080/",
          "height": 500
        },
        "id": "rPd-wr3AzIUT",
        "outputId": "b4881d9f-dd20-47c6-a52e-6b9d231791ba"
      },
      "execution_count": null,
      "outputs": [
        {
          "output_type": "stream",
          "name": "stdout",
          "text": [
            "1/1 [==============================] - 0s 102ms/step\n",
            "[[0.1567974  0.10838947 0.11061967 0.13205206 0.10361557 0.08438333\n",
            "  0.06336165 0.07972012 0.08397573 0.077085  ]]\n",
            "dung\n"
          ]
        },
        {
          "output_type": "display_data",
          "data": {
            "text/plain": [
              "<Figure size 640x480 with 1 Axes>"
            ],
            "image/png": "[encoded data removed]"
          },
          "metadata": {}
        }
      ]
    }
  ]
}
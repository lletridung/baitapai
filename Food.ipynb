{
  "nbformat": 4,
  "nbformat_minor": 0,
  "metadata": {
    "colab": {
      "provenance": [],
      "authorship_tag": "ABX9TyOADg9FdFp9Pj+3YTeT/HyK",
      "include_colab_link": true
    },
    "kernelspec": {
      "name": "python3",
      "display_name": "Python 3"
    },
    "language_info": {
      "name": "python"
    }
  },
  "cells": [
    {
      "cell_type": "markdown",
      "metadata": {
        "id": "view-in-github",
        "colab_type": "text"
      },
      "source": [
        "<a href=\"https://colab.research.google.com/github/lletridung/baitapai/blob/main/Food.ipynb\" target=\"_parent\"><img src=\"https://colab.research.google.com/assets/colab-badge.svg\" alt=\"Open In Colab\"/></a>"
      ]
    },
    {
      "cell_type": "code",
      "source": [
        "from google.colab import drive\n",
        "drive.mount('/content/drive')"
      ],
      "metadata": {
        "colab": {
          "base_uri": "https://localhost:8080/"
        },
        "id": "0x6JrrOX2Zxa",
        "outputId": "833eaf3c-2193-4b7a-e59c-13f025bef59c"
      },
      "execution_count": 24,
      "outputs": [
        {
          "output_type": "stream",
          "name": "stdout",
          "text": [
            "Drive already mounted at /content/drive; to attempt to forcibly remount, call drive.mount(\"/content/drive\", force_remount=True).\n"
          ]
        }
      ]
    },
    {
      "cell_type": "code",
      "source": [
        "import matplotlib.pyplot as plt\n",
        "import numpy as np\n",
        "from matplotlib.image import imread\n",
        "from os import listdir\n",
        "from os.path import isdir\n",
        "from numpy import asarray\n",
        "from numpy import save\n",
        "from keras.utils import load_img, img_to_array\n",
        "from keras.utils import to_categorical\n",
        "from keras.models import Sequential\n",
        "from keras.layers import Dense,Dropout,Flatten,Conv2D,MaxPooling2D,Normalization,LeakyReLU\n",
        "from keras.optimizers import Adam\n",
        "from keras.losses import categorical_crossentropy"
      ],
      "metadata": {
        "id": "2fmf4JhI9Qih"
      },
      "execution_count": 44,
      "outputs": []
    },
    {
      "cell_type": "code",
      "source": [
        "folder = '/content/drive/MyDrive/Food/'\n",
        "photos,labels = list(),list()\n",
        "for file in listdir(folder):\n",
        "  output = 0.0\n",
        "  if file.startswith('bánh cuốn '):\n",
        "    output = 1\n",
        "\n",
        "  if file.startswith('bánh chưng '):\n",
        "    output = 2    \n",
        "\n",
        "  if file.startswith('bánh mì '):\n",
        "    output = 3  \n",
        "\n",
        "  if file.startswith('bánh pía '):\n",
        "    output = 4\n",
        "       \n",
        "  if file.startswith('bánh xèo '):\n",
        "    output = 5\n",
        "    \n",
        "  if file.startswith('bún bò '):\n",
        "    output = 6\n",
        "    \n",
        "  if file.startswith('cơm sườn '):\n",
        "    output = 7\n",
        "    \n",
        "  if file.startswith('chả giò '):\n",
        "    output = 8\n",
        "    \n",
        "  if file.startswith('phở '):\n",
        "    output = 9\n",
        "    \n",
        "  if file.startswith('thịt kho trứng '):\n",
        "    output = 10\n",
        "  img = load_img(folder+file,target_size=(40,30))\n",
        "  photo = img_to_array(img)\n",
        "  photos.append(photo)\n",
        "  labels.append(output)        \n",
        "photos=asarray(photos)\n",
        "labels=asarray(labels)\n",
        "print(photos.shape,labels.shape)\n",
        "save('Food_photos.npy',photos)\n",
        "save('Food_labels.npy',labels)"
      ],
      "metadata": {
        "colab": {
          "base_uri": "https://localhost:8080/"
        },
        "id": "pDohdtkm3Gwh",
        "outputId": "fcaa66f0-0dcb-4eb1-a8ec-0510c33599f4"
      },
      "execution_count": 67,
      "outputs": [
        {
          "output_type": "stream",
          "name": "stdout",
          "text": [
            "(326, 40, 30, 3) (326,)\n"
          ]
        }
      ]
    },
    {
      "cell_type": "code",
      "source": [
        "print(labels.shape)\n",
        "photos.shape"
      ],
      "metadata": {
        "colab": {
          "base_uri": "https://localhost:8080/"
        },
        "id": "YtHF79je33s5",
        "outputId": "0c18d898-4c57-4c84-fc10-e2eba58f382f"
      },
      "execution_count": 68,
      "outputs": [
        {
          "output_type": "stream",
          "name": "stdout",
          "text": [
            "(326,)\n"
          ]
        },
        {
          "output_type": "execute_result",
          "data": {
            "text/plain": [
              "(326, 40, 30, 3)"
            ]
          },
          "metadata": {},
          "execution_count": 68
        }
      ]
    },
    {
      "cell_type": "code",
      "source": [
        "x_train = np.load('/content/Food_photos.npy')\n",
        "y_train = np.load('/content/Food_labels.npy')"
      ],
      "metadata": {
        "id": "IB73Smm36v_i"
      },
      "execution_count": 69,
      "outputs": []
    },
    {
      "cell_type": "code",
      "source": [
        "print(x_train.shape)\n",
        "print(y_train.shape)"
      ],
      "metadata": {
        "colab": {
          "base_uri": "https://localhost:8080/"
        },
        "id": "F3qSQ_0G648o",
        "outputId": "02bc1896-c59f-4d6a-91c3-5bf9b14de021"
      },
      "execution_count": 70,
      "outputs": [
        {
          "output_type": "stream",
          "name": "stdout",
          "text": [
            "(326, 40, 30, 3)\n",
            "(326,)\n"
          ]
        }
      ]
    },
    {
      "cell_type": "code",
      "source": [
        "\n",
        "x_train = x_train.astype('float32')/255\n",
        "y_train = to_categorical(y_train,10)"
      ],
      "metadata": {
        "id": "LngUKxhB7B4Y"
      },
      "execution_count": 71,
      "outputs": []
    },
    {
      "cell_type": "code",
      "source": [
        "model = Sequential()\n",
        "model.add(Conv2D(32,kernel_size = (3,3),activation = 'relu',input_shape=(40,30,3),padding='Same'))\n",
        "model.add(MaxPooling2D((2,2),padding='same'))\n",
        "model.add(LeakyReLU(alpha=0.1))\n",
        "\n",
        "model.add(Conv2D(64,(3,3),activation ='relu',padding ='same'))\n",
        "model.add(MaxPooling2D((2,2),padding='same'))\n",
        "model.add(LeakyReLU(alpha=0.1))\n",
        "\n",
        "model.add(Conv2D(128,(3,3),activation ='relu',padding ='same'))\n",
        "model.add(MaxPooling2D((2,2),padding='same'))\n",
        "model.add(LeakyReLU(alpha=0.1))\n",
        "\n",
        "model.add(Flatten())\n",
        "model.add(Dense(64,activation = 'relu'))\n",
        "model.add(LeakyReLU(alpha=0.1))\n",
        "model.add(Dense(10,activation='softmax'))\n",
        "\n",
        "model.compile(loss = categorical_crossentropy,optimizer = Adam(),metrics=['accuracy'])\n",
        "model.summary()\n"
      ],
      "metadata": {
        "colab": {
          "base_uri": "https://localhost:8080/"
        },
        "id": "CqxP3AT_358g",
        "outputId": "14a1188a-fca0-4a47-e7cb-3b7f625d701e"
      },
      "execution_count": 72,
      "outputs": [
        {
          "output_type": "stream",
          "name": "stdout",
          "text": [
            "Model: \"sequential_8\"\n",
            "_________________________________________________________________\n",
            " Layer (type)                Output Shape              Param #   \n",
            "=================================================================\n",
            " conv2d_24 (Conv2D)          (None, 40, 30, 32)        896       \n",
            "                                                                 \n",
            " max_pooling2d_24 (MaxPoolin  (None, 20, 15, 32)       0         \n",
            " g2D)                                                            \n",
            "                                                                 \n",
            " leaky_re_lu_24 (LeakyReLU)  (None, 20, 15, 32)        0         \n",
            "                                                                 \n",
            " conv2d_25 (Conv2D)          (None, 20, 15, 64)        18496     \n",
            "                                                                 \n",
            " max_pooling2d_25 (MaxPoolin  (None, 10, 8, 64)        0         \n",
            " g2D)                                                            \n",
            "                                                                 \n",
            " leaky_re_lu_25 (LeakyReLU)  (None, 10, 8, 64)         0         \n",
            "                                                                 \n",
            " conv2d_26 (Conv2D)          (None, 10, 8, 128)        73856     \n",
            "                                                                 \n",
            " max_pooling2d_26 (MaxPoolin  (None, 5, 4, 128)        0         \n",
            " g2D)                                                            \n",
            "                                                                 \n",
            " leaky_re_lu_26 (LeakyReLU)  (None, 5, 4, 128)         0         \n",
            "                                                                 \n",
            " flatten_8 (Flatten)         (None, 2560)              0         \n",
            "                                                                 \n",
            " dense_20 (Dense)            (None, 64)                163904    \n",
            "                                                                 \n",
            " leaky_re_lu_27 (LeakyReLU)  (None, 64)                0         \n",
            "                                                                 \n",
            " dense_21 (Dense)            (None, 10)                650       \n",
            "                                                                 \n",
            "=================================================================\n",
            "Total params: 257,802\n",
            "Trainable params: 257,802\n",
            "Non-trainable params: 0\n",
            "_________________________________________________________________\n"
          ]
        }
      ]
    },
    {
      "cell_type": "code",
      "source": [
        "train = model.fit(x_train,y_train,batch_size=5,epochs = 20,verbose = 1)"
      ],
      "metadata": {
        "colab": {
          "base_uri": "https://localhost:8080/"
        },
        "id": "c7VPiAUF4ChY",
        "outputId": "e642e10a-d83b-4eb4-8bcd-0f4479914cb4"
      },
      "execution_count": 73,
      "outputs": [
        {
          "output_type": "stream",
          "name": "stdout",
          "text": [
            "Epoch 1/20\n",
            "66/66 [==============================] - 2s 23ms/step - loss: 0.0774 - accuracy: 0.9847\n",
            "Epoch 2/20\n",
            "66/66 [==============================] - 2s 35ms/step - loss: 0.0000e+00 - accuracy: 1.0000\n",
            "Epoch 3/20\n",
            "66/66 [==============================] - 2s 28ms/step - loss: 0.0000e+00 - accuracy: 1.0000\n",
            "Epoch 4/20\n",
            "66/66 [==============================] - 1s 20ms/step - loss: 0.0000e+00 - accuracy: 1.0000\n",
            "Epoch 5/20\n",
            "66/66 [==============================] - 1s 20ms/step - loss: 0.0000e+00 - accuracy: 1.0000\n",
            "Epoch 6/20\n",
            "66/66 [==============================] - 1s 20ms/step - loss: 0.0000e+00 - accuracy: 1.0000\n",
            "Epoch 7/20\n",
            "66/66 [==============================] - 1s 20ms/step - loss: 0.0000e+00 - accuracy: 1.0000\n",
            "Epoch 8/20\n",
            "66/66 [==============================] - 1s 20ms/step - loss: 0.0000e+00 - accuracy: 1.0000\n",
            "Epoch 9/20\n",
            "66/66 [==============================] - 1s 20ms/step - loss: 0.0000e+00 - accuracy: 1.0000\n",
            "Epoch 10/20\n",
            "66/66 [==============================] - 1s 20ms/step - loss: 0.0000e+00 - accuracy: 1.0000\n",
            "Epoch 11/20\n",
            "66/66 [==============================] - 2s 34ms/step - loss: 0.0000e+00 - accuracy: 1.0000\n",
            "Epoch 12/20\n",
            "66/66 [==============================] - 2s 32ms/step - loss: 0.0000e+00 - accuracy: 1.0000\n",
            "Epoch 13/20\n",
            "66/66 [==============================] - 1s 20ms/step - loss: 0.0000e+00 - accuracy: 1.0000\n",
            "Epoch 14/20\n",
            "66/66 [==============================] - 1s 20ms/step - loss: 0.0000e+00 - accuracy: 1.0000\n",
            "Epoch 15/20\n",
            "66/66 [==============================] - 1s 20ms/step - loss: 0.0000e+00 - accuracy: 1.0000\n",
            "Epoch 16/20\n",
            "66/66 [==============================] - 1s 20ms/step - loss: 0.0000e+00 - accuracy: 1.0000\n",
            "Epoch 17/20\n",
            "66/66 [==============================] - 1s 20ms/step - loss: 0.0000e+00 - accuracy: 1.0000\n",
            "Epoch 18/20\n",
            "66/66 [==============================] - 1s 21ms/step - loss: 0.0000e+00 - accuracy: 1.0000\n",
            "Epoch 19/20\n",
            "66/66 [==============================] - 1s 20ms/step - loss: 0.0000e+00 - accuracy: 1.0000\n",
            "Epoch 20/20\n",
            "66/66 [==============================] - 2s 31ms/step - loss: 0.0000e+00 - accuracy: 1.0000\n"
          ]
        }
      ]
    },
    {
      "cell_type": "code",
      "source": [
        "model.save('Nhandangdoan.h5')"
      ],
      "metadata": {
        "id": "EUDWnAY44Ew7"
      },
      "execution_count": 75,
      "outputs": []
    },
    {
      "cell_type": "code",
      "source": [
        "classes = [\"bánh cuốn\",\"bánh chưng\",\"bánh mì\",\"bánh pía\",\"bánh xèo\",\"bún bò\",\"cơm sườn\",\"chả giò\",\"phở\",\"thịt kho trứng\"]"
      ],
      "metadata": {
        "id": "zi4Rktiy4Hdh"
      },
      "execution_count": 76,
      "outputs": []
    },
    {
      "cell_type": "code",
      "source": [
        "img = load_img('/content/drive/MyDrive/Food/chả_giò (1).jpg', target_size=(40,30))\n",
        "plt.imshow(img)\n",
        "imgRe = img_to_array(img)\n",
        "imgRe = imgRe.reshape(1,40,30,3)  \n",
        "imgRe = imgRe.astype('float32')\n",
        "imgRe /= 255\n",
        "y_pred = model.predict(imgRe)\n",
        "print(y_pred)\n",
        "y_classes = [np.argmax(element) for element in y_pred]\n",
        "y_classes\n",
        "classes[y_classes[0]]"
      ],
      "metadata": {
        "colab": {
          "base_uri": "https://localhost:8080/",
          "height": 484
        },
        "id": "GlZlPhnH4JP4",
        "outputId": "fcba2e6c-f8f2-400f-a68a-faaeb0f0fdd4"
      },
      "execution_count": 78,
      "outputs": [
        {
          "output_type": "stream",
          "name": "stdout",
          "text": [
            "1/1 [==============================] - 0s 131ms/step\n",
            "[[1. 0. 0. 0. 0. 0. 0. 0. 0. 0.]]\n"
          ]
        },
        {
          "output_type": "execute_result",
          "data": {
            "text/plain": [
              "'bánh cuốn'"
            ],
            "application/vnd.google.colaboratory.intrinsic+json": {
              "type": "string"
            }
          },
          "metadata": {},
          "execution_count": 78
        },
        {
          "output_type": "display_data",
          "data": {
            "text/plain": [
              "<Figure size 640x480 with 1 Axes>"
            ],
            "image/png": "[encoded data removed]"
          },
          "metadata": {}
        }
      ]
    }
  ]
}
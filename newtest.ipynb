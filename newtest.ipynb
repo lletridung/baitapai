{
  "nbformat": 4,
  "nbformat_minor": 0,
  "metadata": {
    "colab": {
      "provenance": [],
      "include_colab_link": true
    },
    "kernelspec": {
      "name": "python3",
      "display_name": "Python 3"
    },
    "language_info": {
      "name": "python"
    }
  },
  "cells": [
    {
      "cell_type": "markdown",
      "metadata": {
        "id": "view-in-github",
        "colab_type": "text"
      },
      "source": [
        "<a href=\"https://colab.research.google.com/github/lletridung/baitapai/blob/main/newtest.ipynb\" target=\"_parent\"><img src=\"https://colab.research.google.com/assets/colab-badge.svg\" alt=\"Open In Colab\"/></a>"
      ]
    },
    {
      "cell_type": "code",
      "source": [
        "from google.colab import drive\n",
        "drive.mount('/content/drive')"
      ],
      "metadata": {
        "colab": {
          "base_uri": "https://localhost:8080/"
        },
        "id": "qLCTtg3HwamV",
        "outputId": "8525640f-8e7e-4c58-aba2-68e344b28429"
      },
      "execution_count": 7,
      "outputs": [
        {
          "output_type": "stream",
          "name": "stdout",
          "text": [
            "Drive already mounted at /content/drive; to attempt to forcibly remount, call drive.mount(\"/content/drive\", force_remount=True).\n"
          ]
        }
      ]
    },
    {
      "cell_type": "code",
      "source": [
        "import pandas as  pd \n",
        "import numpy as np\n",
        "import matplotlib as  plt \n",
        "\n",
        "# Create URL\n",
        "url = '/content/drive/MyDrive/social_network_ads.csv'\n",
        "\n",
        "# Read the data and see inside the data[5]:\n",
        "dataframe = pd.read_csv(url)\n",
        "dataframe.head(5)"
      ],
      "metadata": {
        "colab": {
          "base_uri": "https://localhost:8080/",
          "height": 206
        },
        "id": "4e8KM08dwiNu",
        "outputId": "1edb7f41-2e1f-4671-df90-4283075128da"
      },
      "execution_count": 8,
      "outputs": [
        {
          "output_type": "execute_result",
          "data": {
            "text/plain": [
              "    User ID  Gender  Age  EstimatedSalary  Purchased\n",
              "0  15624510    Male   19            19000          0\n",
              "1  15810944    Male   35            20000          0\n",
              "2  15668575  Female   26            43000          0\n",
              "3  15603246  Female   27            57000          0\n",
              "4  15804002    Male   19            76000          0"
            ],
            "text/html": [
              "\n",
              "  <div id=\"df-9552e4e0-28e8-4034-8b45-733aab0d4d4c\">\n",
              "    <div class=\"colab-df-container\">\n",
              "      <div>\n",
              "<style scoped>\n",
              "    .dataframe tbody tr th:only-of-type {\n",
              "        vertical-align: middle;\n",
              "    }\n",
              "\n",
              "    .dataframe tbody tr th {\n",
              "        vertical-align: top;\n",
              "    }\n",
              "\n",
              "    .dataframe thead th {\n",
              "        text-align: right;\n",
              "    }\n",
              "</style>\n",
              "<table border=\"1\" class=\"dataframe\">\n",
              "  <thead>\n",
              "    <tr style=\"text-align: right;\">\n",
              "      <th></th>\n",
              "      <th>User ID</th>\n",
              "      <th>Gender</th>\n",
              "      <th>Age</th>\n",
              "      <th>EstimatedSalary</th>\n",
              "      <th>Purchased</th>\n",
              "    </tr>\n",
              "  </thead>\n",
              "  <tbody>\n",
              "    <tr>\n",
              "      <th>0</th>\n",
              "      <td>15624510</td>\n",
              "      <td>Male</td>\n",
              "      <td>19</td>\n",
              "      <td>19000</td>\n",
              "      <td>0</td>\n",
              "    </tr>\n",
              "    <tr>\n",
              "      <th>1</th>\n",
              "      <td>15810944</td>\n",
              "      <td>Male</td>\n",
              "      <td>35</td>\n",
              "      <td>20000</td>\n",
              "      <td>0</td>\n",
              "    </tr>\n",
              "    <tr>\n",
              "      <th>2</th>\n",
              "      <td>15668575</td>\n",
              "      <td>Female</td>\n",
              "      <td>26</td>\n",
              "      <td>43000</td>\n",
              "      <td>0</td>\n",
              "    </tr>\n",
              "    <tr>\n",
              "      <th>3</th>\n",
              "      <td>15603246</td>\n",
              "      <td>Female</td>\n",
              "      <td>27</td>\n",
              "      <td>57000</td>\n",
              "      <td>0</td>\n",
              "    </tr>\n",
              "    <tr>\n",
              "      <th>4</th>\n",
              "      <td>15804002</td>\n",
              "      <td>Male</td>\n",
              "      <td>19</td>\n",
              "      <td>76000</td>\n",
              "      <td>0</td>\n",
              "    </tr>\n",
              "  </tbody>\n",
              "</table>\n",
              "</div>\n",
              "      <button class=\"colab-df-convert\" onclick=\"convertToInteractive('df-9552e4e0-28e8-4034-8b45-733aab0d4d4c')\"\n",
              "              title=\"Convert this dataframe to an interactive table.\"\n",
              "              style=\"display:none;\">\n",
              "        \n",
              "  <svg xmlns=\"http://www.w3.org/2000/svg\" height=\"24px\"viewBox=\"0 0 24 24\"\n",
              "       width=\"24px\">\n",
              "    <path d=\"M0 0h24v24H0V0z\" fill=\"none\"/>\n",
              "    <path d=\"M18.56 5.44l.94 2.06.94-2.06 2.06-.94-2.06-.94-.94-2.06-.94 2.06-2.06.94zm-11 1L8.5 8.5l.94-2.06 2.06-.94-2.06-.94L8.5 2.5l-.94 2.06-2.06.94zm10 10l.94 2.06.94-2.06 2.06-.94-2.06-.94-.94-2.06-.94 2.06-2.06.94z\"/><path d=\"M17.41 7.96l-1.37-1.37c-.4-.4-.92-.59-1.43-.59-.52 0-1.04.2-1.43.59L10.3 9.45l-7.72 7.72c-.78.78-.78 2.05 0 2.83L4 21.41c.39.39.9.59 1.41.59.51 0 1.02-.2 1.41-.59l7.78-7.78 2.81-2.81c.8-.78.8-2.07 0-2.86zM5.41 20L4 18.59l7.72-7.72 1.47 1.35L5.41 20z\"/>\n",
              "  </svg>\n",
              "      </button>\n",
              "      \n",
              "  <style>\n",
              "    .colab-df-container {\n",
              "      display:flex;\n",
              "      flex-wrap:wrap;\n",
              "      gap: 12px;\n",
              "    }\n",
              "\n",
              "    .colab-df-convert {\n",
              "      background-color: #E8F0FE;\n",
              "      border: none;\n",
              "      border-radius: 50%;\n",
              "      cursor: pointer;\n",
              "      display: none;\n",
              "      fill: #1967D2;\n",
              "      height: 32px;\n",
              "      padding: 0 0 0 0;\n",
              "      width: 32px;\n",
              "    }\n",
              "\n",
              "    .colab-df-convert:hover {\n",
              "      background-color: #E2EBFA;\n",
              "      box-shadow: 0px 1px 2px rgba(60, 64, 67, 0.3), 0px 1px 3px 1px rgba(60, 64, 67, 0.15);\n",
              "      fill: #174EA6;\n",
              "    }\n",
              "\n",
              "    [theme=dark] .colab-df-convert {\n",
              "      background-color: #3B4455;\n",
              "      fill: #D2E3FC;\n",
              "    }\n",
              "\n",
              "    [theme=dark] .colab-df-convert:hover {\n",
              "      background-color: #434B5C;\n",
              "      box-shadow: 0px 1px 3px 1px rgba(0, 0, 0, 0.15);\n",
              "      filter: drop-shadow(0px 1px 2px rgba(0, 0, 0, 0.3));\n",
              "      fill: #FFFFFF;\n",
              "    }\n",
              "  </style>\n",
              "\n",
              "      <script>\n",
              "        const buttonEl =\n",
              "          document.querySelector('#df-9552e4e0-28e8-4034-8b45-733aab0d4d4c button.colab-df-convert');\n",
              "        buttonEl.style.display =\n",
              "          google.colab.kernel.accessAllowed ? 'block' : 'none';\n",
              "\n",
              "        async function convertToInteractive(key) {\n",
              "          const element = document.querySelector('#df-9552e4e0-28e8-4034-8b45-733aab0d4d4c');\n",
              "          const dataTable =\n",
              "            await google.colab.kernel.invokeFunction('convertToInteractive',\n",
              "                                                     [key], {});\n",
              "          if (!dataTable) return;\n",
              "\n",
              "          const docLinkHtml = 'Like what you see? Visit the ' +\n",
              "            '<a target=\"_blank\" href=https://colab.research.google.com/notebooks/data_table.ipynb>data table notebook</a>'\n",
              "            + ' to learn more about interactive tables.';\n",
              "          element.innerHTML = '';\n",
              "          dataTable['output_type'] = 'display_data';\n",
              "          await google.colab.output.renderOutput(dataTable, element);\n",
              "          const docLink = document.createElement('div');\n",
              "          docLink.innerHTML = docLinkHtml;\n",
              "          element.appendChild(docLink);\n",
              "        }\n",
              "      </script>\n",
              "    </div>\n",
              "  </div>\n",
              "  "
            ]
          },
          "metadata": {},
          "execution_count": 8
        }
      ]
    },
    {
      "cell_type": "code",
      "source": [
        "# Check for the size of the data\n",
        "dataframe.shape"
      ],
      "metadata": {
        "colab": {
          "base_uri": "https://localhost:8080/"
        },
        "id": "VvgYFQz7YUmQ",
        "outputId": "983a7778-22ea-4c26-81f1-52e8c93580bc"
      },
      "execution_count": 9,
      "outputs": [
        {
          "output_type": "execute_result",
          "data": {
            "text/plain": [
              "(400, 5)"
            ]
          },
          "metadata": {},
          "execution_count": 9
        }
      ]
    },
    {
      "cell_type": "code",
      "source": [
        "# Check for NaN Data\n",
        "dataframe.isnull().values.any()"
      ],
      "metadata": {
        "colab": {
          "base_uri": "https://localhost:8080/"
        },
        "id": "bvrTjPqwwvQh",
        "outputId": "ffe2f381-afdb-4499-ecaa-a6f6b850ef71"
      },
      "execution_count": 10,
      "outputs": [
        {
          "output_type": "execute_result",
          "data": {
            "text/plain": [
              "False"
            ]
          },
          "metadata": {},
          "execution_count": 10
        }
      ]
    },
    {
      "cell_type": "code",
      "source": [
        "dataframe.info()"
      ],
      "metadata": {
        "colab": {
          "base_uri": "https://localhost:8080/"
        },
        "id": "M-oBA0-1wwOJ",
        "outputId": "1924ba32-6ec5-4d1f-8ee5-d2fb9d3717e6"
      },
      "execution_count": 11,
      "outputs": [
        {
          "output_type": "stream",
          "name": "stdout",
          "text": [
            "<class 'pandas.core.frame.DataFrame'>\n",
            "RangeIndex: 400 entries, 0 to 399\n",
            "Data columns (total 5 columns):\n",
            " #   Column           Non-Null Count  Dtype \n",
            "---  ------           --------------  ----- \n",
            " 0   User ID          400 non-null    int64 \n",
            " 1   Gender           400 non-null    object\n",
            " 2   Age              400 non-null    int64 \n",
            " 3   EstimatedSalary  400 non-null    int64 \n",
            " 4   Purchased        400 non-null    int64 \n",
            "dtypes: int64(4), object(1)\n",
            "memory usage: 15.8+ KB\n"
          ]
        }
      ]
    },
    {
      "cell_type": "code",
      "source": [
        "# Check the \"Gender\" Data\n",
        "dataframe['Gender'].describe()"
      ],
      "metadata": {
        "colab": {
          "base_uri": "https://localhost:8080/"
        },
        "id": "i5RZYNwrw6AW",
        "outputId": "659513e9-79c3-47d8-c435-e800f4b2bb06"
      },
      "execution_count": 12,
      "outputs": [
        {
          "output_type": "execute_result",
          "data": {
            "text/plain": [
              "count        400\n",
              "unique         2\n",
              "top       Female\n",
              "freq         204\n",
              "Name: Gender, dtype: object"
            ]
          },
          "metadata": {},
          "execution_count": 12
        }
      ]
    },
    {
      "cell_type": "code",
      "source": [
        "# Change the value of gender from float to int\n",
        "scale_mapper = {\"Female\":0,\n",
        "                \"Male\":1,}\n",
        "\n",
        "dataframe[\"Gender\"]=dataframe[\"Gender\"].replace(scale_mapper)\n",
        "dataframe.head(5)"
      ],
      "metadata": {
        "colab": {
          "base_uri": "https://localhost:8080/",
          "height": 206
        },
        "id": "NxCuoalVw-n_",
        "outputId": "cdaec9b8-dd47-47ef-eb1c-47202e18cabc"
      },
      "execution_count": 13,
      "outputs": [
        {
          "output_type": "execute_result",
          "data": {
            "text/plain": [
              "    User ID  Gender  Age  EstimatedSalary  Purchased\n",
              "0  15624510       1   19            19000          0\n",
              "1  15810944       1   35            20000          0\n",
              "2  15668575       0   26            43000          0\n",
              "3  15603246       0   27            57000          0\n",
              "4  15804002       1   19            76000          0"
            ],
            "text/html": [
              "\n",
              "  <div id=\"df-d98563a1-df82-4340-9050-7838debdfe7e\">\n",
              "    <div class=\"colab-df-container\">\n",
              "      <div>\n",
              "<style scoped>\n",
              "    .dataframe tbody tr th:only-of-type {\n",
              "        vertical-align: middle;\n",
              "    }\n",
              "\n",
              "    .dataframe tbody tr th {\n",
              "        vertical-align: top;\n",
              "    }\n",
              "\n",
              "    .dataframe thead th {\n",
              "        text-align: right;\n",
              "    }\n",
              "</style>\n",
              "<table border=\"1\" class=\"dataframe\">\n",
              "  <thead>\n",
              "    <tr style=\"text-align: right;\">\n",
              "      <th></th>\n",
              "      <th>User ID</th>\n",
              "      <th>Gender</th>\n",
              "      <th>Age</th>\n",
              "      <th>EstimatedSalary</th>\n",
              "      <th>Purchased</th>\n",
              "    </tr>\n",
              "  </thead>\n",
              "  <tbody>\n",
              "    <tr>\n",
              "      <th>0</th>\n",
              "      <td>15624510</td>\n",
              "      <td>1</td>\n",
              "      <td>19</td>\n",
              "      <td>19000</td>\n",
              "      <td>0</td>\n",
              "    </tr>\n",
              "    <tr>\n",
              "      <th>1</th>\n",
              "      <td>15810944</td>\n",
              "      <td>1</td>\n",
              "      <td>35</td>\n",
              "      <td>20000</td>\n",
              "      <td>0</td>\n",
              "    </tr>\n",
              "    <tr>\n",
              "      <th>2</th>\n",
              "      <td>15668575</td>\n",
              "      <td>0</td>\n",
              "      <td>26</td>\n",
              "      <td>43000</td>\n",
              "      <td>0</td>\n",
              "    </tr>\n",
              "    <tr>\n",
              "      <th>3</th>\n",
              "      <td>15603246</td>\n",
              "      <td>0</td>\n",
              "      <td>27</td>\n",
              "      <td>57000</td>\n",
              "      <td>0</td>\n",
              "    </tr>\n",
              "    <tr>\n",
              "      <th>4</th>\n",
              "      <td>15804002</td>\n",
              "      <td>1</td>\n",
              "      <td>19</td>\n",
              "      <td>76000</td>\n",
              "      <td>0</td>\n",
              "    </tr>\n",
              "  </tbody>\n",
              "</table>\n",
              "</div>\n",
              "      <button class=\"colab-df-convert\" onclick=\"convertToInteractive('df-d98563a1-df82-4340-9050-7838debdfe7e')\"\n",
              "              title=\"Convert this dataframe to an interactive table.\"\n",
              "              style=\"display:none;\">\n",
              "        \n",
              "  <svg xmlns=\"http://www.w3.org/2000/svg\" height=\"24px\"viewBox=\"0 0 24 24\"\n",
              "       width=\"24px\">\n",
              "    <path d=\"M0 0h24v24H0V0z\" fill=\"none\"/>\n",
              "    <path d=\"M18.56 5.44l.94 2.06.94-2.06 2.06-.94-2.06-.94-.94-2.06-.94 2.06-2.06.94zm-11 1L8.5 8.5l.94-2.06 2.06-.94-2.06-.94L8.5 2.5l-.94 2.06-2.06.94zm10 10l.94 2.06.94-2.06 2.06-.94-2.06-.94-.94-2.06-.94 2.06-2.06.94z\"/><path d=\"M17.41 7.96l-1.37-1.37c-.4-.4-.92-.59-1.43-.59-.52 0-1.04.2-1.43.59L10.3 9.45l-7.72 7.72c-.78.78-.78 2.05 0 2.83L4 21.41c.39.39.9.59 1.41.59.51 0 1.02-.2 1.41-.59l7.78-7.78 2.81-2.81c.8-.78.8-2.07 0-2.86zM5.41 20L4 18.59l7.72-7.72 1.47 1.35L5.41 20z\"/>\n",
              "  </svg>\n",
              "      </button>\n",
              "      \n",
              "  <style>\n",
              "    .colab-df-container {\n",
              "      display:flex;\n",
              "      flex-wrap:wrap;\n",
              "      gap: 12px;\n",
              "    }\n",
              "\n",
              "    .colab-df-convert {\n",
              "      background-color: #E8F0FE;\n",
              "      border: none;\n",
              "      border-radius: 50%;\n",
              "      cursor: pointer;\n",
              "      display: none;\n",
              "      fill: #1967D2;\n",
              "      height: 32px;\n",
              "      padding: 0 0 0 0;\n",
              "      width: 32px;\n",
              "    }\n",
              "\n",
              "    .colab-df-convert:hover {\n",
              "      background-color: #E2EBFA;\n",
              "      box-shadow: 0px 1px 2px rgba(60, 64, 67, 0.3), 0px 1px 3px 1px rgba(60, 64, 67, 0.15);\n",
              "      fill: #174EA6;\n",
              "    }\n",
              "\n",
              "    [theme=dark] .colab-df-convert {\n",
              "      background-color: #3B4455;\n",
              "      fill: #D2E3FC;\n",
              "    }\n",
              "\n",
              "    [theme=dark] .colab-df-convert:hover {\n",
              "      background-color: #434B5C;\n",
              "      box-shadow: 0px 1px 3px 1px rgba(0, 0, 0, 0.15);\n",
              "      filter: drop-shadow(0px 1px 2px rgba(0, 0, 0, 0.3));\n",
              "      fill: #FFFFFF;\n",
              "    }\n",
              "  </style>\n",
              "\n",
              "      <script>\n",
              "        const buttonEl =\n",
              "          document.querySelector('#df-d98563a1-df82-4340-9050-7838debdfe7e button.colab-df-convert');\n",
              "        buttonEl.style.display =\n",
              "          google.colab.kernel.accessAllowed ? 'block' : 'none';\n",
              "\n",
              "        async function convertToInteractive(key) {\n",
              "          const element = document.querySelector('#df-d98563a1-df82-4340-9050-7838debdfe7e');\n",
              "          const dataTable =\n",
              "            await google.colab.kernel.invokeFunction('convertToInteractive',\n",
              "                                                     [key], {});\n",
              "          if (!dataTable) return;\n",
              "\n",
              "          const docLinkHtml = 'Like what you see? Visit the ' +\n",
              "            '<a target=\"_blank\" href=https://colab.research.google.com/notebooks/data_table.ipynb>data table notebook</a>'\n",
              "            + ' to learn more about interactive tables.';\n",
              "          element.innerHTML = '';\n",
              "          dataTable['output_type'] = 'display_data';\n",
              "          await google.colab.output.renderOutput(dataTable, element);\n",
              "          const docLink = document.createElement('div');\n",
              "          docLink.innerHTML = docLinkHtml;\n",
              "          element.appendChild(docLink);\n",
              "        }\n",
              "      </script>\n",
              "    </div>\n",
              "  </div>\n",
              "  "
            ]
          },
          "metadata": {},
          "execution_count": 13
        }
      ]
    },
    {
      "cell_type": "code",
      "source": [
        "# Check info of data again\n",
        "dataframe.info()"
      ],
      "metadata": {
        "colab": {
          "base_uri": "https://localhost:8080/"
        },
        "id": "IkDUlvvGxJx6",
        "outputId": "93f07f92-876d-4e5f-a22e-fd205784ccfa"
      },
      "execution_count": 14,
      "outputs": [
        {
          "output_type": "stream",
          "name": "stdout",
          "text": [
            "<class 'pandas.core.frame.DataFrame'>\n",
            "RangeIndex: 400 entries, 0 to 399\n",
            "Data columns (total 5 columns):\n",
            " #   Column           Non-Null Count  Dtype\n",
            "---  ------           --------------  -----\n",
            " 0   User ID          400 non-null    int64\n",
            " 1   Gender           400 non-null    int64\n",
            " 2   Age              400 non-null    int64\n",
            " 3   EstimatedSalary  400 non-null    int64\n",
            " 4   Purchased        400 non-null    int64\n",
            "dtypes: int64(5)\n",
            "memory usage: 15.8 KB\n"
          ]
        }
      ]
    },
    {
      "cell_type": "code",
      "source": [
        "# Remove the unnecessary column 'ID'\n",
        "dataframe.drop(\"User ID\",axis = 1, inplace = True)"
      ],
      "metadata": {
        "id": "KO6JTqszxNbx"
      },
      "execution_count": 15,
      "outputs": []
    },
    {
      "cell_type": "code",
      "source": [
        "# Save features and prediction\n",
        "Features = ['Gender','Age','EstimatedSalary']\n",
        "PredictClass = ['Purchased']"
      ],
      "metadata": {
        "id": "TWQ4njbgxYF7"
      },
      "execution_count": 16,
      "outputs": []
    },
    {
      "cell_type": "code",
      "source": [
        "# Check for the imbalance appears in the data, or not\n",
        "dataframe.hist(bins=10, figsize=(10,10))"
      ],
      "metadata": {
        "colab": {
          "base_uri": "https://localhost:8080/",
          "height": 720
        },
        "id": "GenY5EUJxfEB",
        "outputId": "b3f6a4b9-bd69-4020-df54-3ea96c17725d"
      },
      "execution_count": 17,
      "outputs": [
        {
          "output_type": "execute_result",
          "data": {
            "text/plain": [
              "array([[<Axes: title={'center': 'Gender'}>,\n",
              "        <Axes: title={'center': 'Age'}>],\n",
              "       [<Axes: title={'center': 'EstimatedSalary'}>,\n",
              "        <Axes: title={'center': 'Purchased'}>]], dtype=object)"
            ]
          },
          "metadata": {},
          "execution_count": 17
        },
        {
          "output_type": "display_data",
          "data": {
            "text/plain": [
              "<Figure size 1000x1000 with 4 Axes>"
            ],
            "image/png": "[encoded data removed]"
          },
          "metadata": {}
        }
      ]
    },
    {
      "cell_type": "markdown",
      "source": [
        "**Decision Tree Classifier**"
      ],
      "metadata": {
        "id": "OFC30CfF2OZ_"
      }
    },
    {
      "cell_type": "code",
      "source": [
        "\n",
        "from sklearn.model_selection import train_test_split\n",
        "from sklearn.tree import DecisionTreeClassifier\n",
        "from sklearn.metrics import accuracy_score\n",
        "\n",
        "# Split the data into training and test sets\n",
        "X = dataframe[Features].values\n",
        "Y = dataframe[PredictClass].values\n",
        "X_train, X_test, y_train, y_test  = train_test_split(X, Y, test_size = 0.3, random_state=1) #Chia dữ liệu thành tập huấn luyện và tập kiểm tra. \n",
        "                                                                                            #Tập huấn luyện sẽ chứa 70% dữ liệu, và tập kiểm tra sẽ chứa 30% dữ liệu. \n",
        "                                                                                            #Tham số random_state được đặt là 1 để đảm bảo tính nhất quán của việc chia dữ liệu.\n",
        "\n",
        "# Create a Decision Tree classifier\n",
        "clf = DecisionTreeClassifier()#Tạo một phiên bản của lớp DecisionTreeClassifier.\n",
        "\n",
        "# Train the classifier on the training data\n",
        "clf.fit(X_train, y_train) \n",
        "\n",
        "# Make predictions on the testing data\n",
        "y_pred = clf.predict(X_test)\n",
        "\n",
        "# Calculate the accuracy of the classifier\n",
        "accuracy1 = accuracy_score(y_test, y_pred)\n",
        "print(f\"DecisionTreeClassifier Accuracy: {accuracy1*100}%\")"
      ],
      "metadata": {
        "colab": {
          "base_uri": "https://localhost:8080/"
        },
        "id": "NFkhakiBmIfD",
        "outputId": "565fc5ec-12e5-4d53-c12a-5f5a61b4c26f"
      },
      "execution_count": 18,
      "outputs": [
        {
          "output_type": "stream",
          "name": "stdout",
          "text": [
            "DecisionTreeClassifier Accuracy: 81.66666666666667%\n"
          ]
        }
      ]
    },
    {
      "cell_type": "code",
      "source": [
        "import numpy as np\n",
        "import matplotlib.pyplot as plt\n",
        "import seaborn as sns\n",
        "from sklearn.metrics import confusion_matrix\n",
        "from sklearn.metrics import confusion_matrix, ConfusionMatrixDisplay, accuracy_score\n",
        "cm = confusion_matrix(y_test, y_pred)\n",
        "sns.heatmap(cm, cmap = 'Greens', annot = True, fmt = 'd', linewidths = 4,  annot_kws = {'fontsize': 13}, \n",
        "                yticklabels = ['Cant buy', 'Buy'], xticklabels = ['Predicted Cant buy', 'Predicted Buy'])\n",
        "plt.yticks(rotation = 0)\n",
        "plt.show()\n"
      ],
      "metadata": {
        "colab": {
          "base_uri": "https://localhost:8080/",
          "height": 430
        },
        "id": "_hKf6nqPo2wz",
        "outputId": "7d39c96a-6551-470d-fb95-862db7324a18"
      },
      "execution_count": 19,
      "outputs": [
        {
          "output_type": "display_data",
          "data": {
            "text/plain": [
              "<Figure size 640x480 with 2 Axes>"
            ],
            "image/png": "[encoded data removed]"
          },
          "metadata": {}
        }
      ]
    },
    {
      "cell_type": "markdown",
      "source": [
        "**BernoulliNB**"
      ],
      "metadata": {
        "id": "JS_rL6LZ1aO9"
      }
    },
    {
      "cell_type": "code",
      "source": [
        "from sklearn.model_selection import train_test_split\n",
        "from sklearn.preprocessing import StandardScaler\n",
        "from sklearn.naive_bayes import BernoulliNB\n",
        "# Split the data into training and test sets\n",
        "X = dataframe[Features].values\n",
        "Y = dataframe[PredictClass].values\n",
        "X_train, X_test, y_train, y_test = train_test_split(X, Y, test_size = 0.3, random_state=1)\n",
        "\n",
        "# Standardize the data\n",
        "std_scaler = StandardScaler() #Tạo một phiên bản của lớp StandardScaler.\n",
        "train_std = std_scaler.fit_transform(X_train) #Chuẩn hóa dữ liệu huấn luyện bằng cách tính giá trị trung bình và độ lệch chuẩn của dữ liệu huấn luyện, sau đó áp dụng chuẩn hóa cho dữ liệu huấn luyện.\n",
        "test_std = std_scaler.transform(X_test) #Áp dụng chuẩn hóa dữ liệu đã tính \n",
        "\n",
        "# Create and train the Naive Bayes classifier\n",
        "NB = BernoulliNB() #Tạo một phiên bản của lớp BernoulliNB.\n",
        "model_1 = NB.fit(train_std, y_train) #Huấn luyện bộ phân loại Naive Bayes trên dữ liệu đã chuẩn hóa (train_std) và biến mục tiêu huấn luyện (y_train).\n",
        "\n",
        "# Make predictions on the test set\n",
        "y_pred = model_1.predict(test_std)\n",
        "\n",
        "# Calculate and print the accuracy\n",
        "accuracy2 = model_1.score(test_std, y_test)\n",
        "print(f\"BernoulliNB Accuracy:{accuracy2*100}%\")"
      ],
      "metadata": {
        "colab": {
          "base_uri": "https://localhost:8080/"
        },
        "id": "Sz5zW5IBssRE",
        "outputId": "d26966bf-243f-4861-c6d7-d4cb65827566"
      },
      "execution_count": 20,
      "outputs": [
        {
          "output_type": "stream",
          "name": "stdout",
          "text": [
            "BernoulliNB Accuracy:69.16666666666667%\n"
          ]
        },
        {
          "output_type": "stream",
          "name": "stderr",
          "text": [
            "/usr/local/lib/python3.10/dist-packages/sklearn/utils/validation.py:1143: DataConversionWarning: A column-vector y was passed when a 1d array was expected. Please change the shape of y to (n_samples, ), for example using ravel().\n",
            "  y = column_or_1d(y, warn=True)\n"
          ]
        }
      ]
    },
    {
      "cell_type": "code",
      "source": [
        "from sklearn.metrics import confusion_matrix, ConfusionMatrixDisplay, accuracy_score\n",
        "cm = confusion_matrix(y_test, y_pred)\n",
        "sns.heatmap(cm, cmap = 'Blues', annot = True, fmt = 'd', linewidths = 4,  annot_kws = {'fontsize': 13}, \n",
        "                yticklabels = ['Cant buy', 'Buy'], xticklabels = ['Predicted Cant buy', 'Predicted Buy'])\n",
        "plt.yticks(rotation = 0)\n",
        "plt.show()"
      ],
      "metadata": {
        "colab": {
          "base_uri": "https://localhost:8080/",
          "height": 430
        },
        "id": "KpsKoOqGs8LM",
        "outputId": "d981cc93-6100-4ea2-8bd7-ba7cc23c6073"
      },
      "execution_count": 21,
      "outputs": [
        {
          "output_type": "display_data",
          "data": {
            "text/plain": [
              "<Figure size 640x480 with 2 Axes>"
            ],
            "image/png": "[encoded data removed]"
          },
          "metadata": {}
        }
      ]
    },
    {
      "cell_type": "markdown",
      "source": [
        "**Random Forest Classifier**"
      ],
      "metadata": {
        "id": "RMzk4Qt51Qge"
      }
    },
    {
      "cell_type": "code",
      "source": [
        "# Load libraries\n",
        "import numpy as np\n",
        "from sklearn.ensemble import RandomForestClassifier\n",
        "from sklearn import datasets\n",
        "\n",
        "# Split, Train and Test\n",
        "from sklearn.model_selection import train_test_split\n",
        "X = dataframe[Features].values\n",
        "Y = dataframe[PredictClass].values\n",
        "X_train, X_test, y_train, y_test = train_test_split(X, Y, test_size = 0.3, random_state=1)\n",
        "\n",
        "\n",
        "# Create target vector indicating if class 0, otherwise 1\n",
        "target = np.where((PredictClass == 0), 0, 1) #Dựa trên biến mục tiêu (lớp được dự đoán) PredictClass, tạo một vectơ mục tiêu chỉ định lớp 0 nếu giá trị là 0, ngược lại là 1.\n",
        "# Create random forest classifier object\n",
        "randomforest = RandomForestClassifier(random_state=0, n_jobs=-1, class_weight=\"balanced\") #Tạo một phiên bản của lớp RandomForestClassifier. \n",
        "                                                                                          #Tham số random_state được đặt là 0 để đảm bảo tính nhất quán của việc tạo các cây ngẫu nhiên, \n",
        "                                                                                          #n_jobs=-1 cho phép sử dụng tất cả các CPU có sẵn, \n",
        "                                                                                          #và class_weight=\"balanced\" điều chỉnh trọng số lớp để cân bằng các lớp không đồng đều.\n",
        "\n",
        "# Train model\n",
        "model_2= randomforest.fit(X_train, y_train)\n",
        "\n",
        "# Operation the output of RandomForest:\n",
        "y_pred = model_2.predict(X_test)\n",
        "# Test for accuracy\n",
        "accuracy3 = model_2.score(X_test, y_test)\n",
        "print(f\"RandomForestClassifier Accuracy:{accuracy3*100}%\")\n"
      ],
      "metadata": {
        "colab": {
          "base_uri": "https://localhost:8080/"
        },
        "id": "t0DllOFctfQ7",
        "outputId": "61770948-cff2-44e2-9a2c-57582f23279f"
      },
      "execution_count": 22,
      "outputs": [
        {
          "output_type": "stream",
          "name": "stdout",
          "text": [
            "RandomForestClassifier Accuracy:85.83333333333333%\n"
          ]
        },
        {
          "output_type": "stream",
          "name": "stderr",
          "text": [
            "<ipython-input-22-f8019d84cde2>:22: DataConversionWarning: A column-vector y was passed when a 1d array was expected. Please change the shape of y to (n_samples,), for example using ravel().\n",
            "  model_2= randomforest.fit(X_train, y_train)\n"
          ]
        }
      ]
    },
    {
      "cell_type": "code",
      "source": [
        "from sklearn.metrics import confusion_matrix, ConfusionMatrixDisplay, accuracy_score\n",
        "cm = confusion_matrix(y_test, y_pred)\n",
        "sns.heatmap(cm, cmap = 'Reds', annot = True, fmt = 'd', linewidths = 4,  annot_kws = {'fontsize': 13}, \n",
        "                yticklabels = ['Cant buy', 'Buy'], xticklabels = ['Predicted Cant buy', 'Predicted Buy'])\n",
        "plt.yticks(rotation = 0)\n",
        "plt.show()"
      ],
      "metadata": {
        "colab": {
          "base_uri": "https://localhost:8080/",
          "height": 430
        },
        "id": "mPpxppfdysQM",
        "outputId": "f89b34b8-89f8-4ce4-e17c-be0b1ab5d42b"
      },
      "execution_count": 23,
      "outputs": [
        {
          "output_type": "display_data",
          "data": {
            "text/plain": [
              "<Figure size 640x480 with 2 Axes>"
            ],
            "image/png": "[encoded data removed]"
          },
          "metadata": {}
        }
      ]
    },
    {
      "cell_type": "markdown",
      "source": [
        "**Since RandomForestClassifier gives low rating, change to Random Forests with Out-of-Bag Errors**"
      ],
      "metadata": {
        "id": "VgS1DAH-1KFt"
      }
    },
    {
      "cell_type": "code",
      "source": [
        "# Load libraries\n",
        "from sklearn.ensemble import RandomForestClassifier\n",
        "from sklearn import datasets\n",
        "# Split, Train and Test\n",
        "from sklearn.model_selection import train_test_split\n",
        "X = dataframe[Features].values\n",
        "Y = dataframe[PredictClass].values\n",
        "X_train, X_test, y_train, y_test = train_test_split(X, Y, test_size = 0.3, random_state=1)\n",
        "\n",
        "# Create random tree classifier object\n",
        "randomforest = RandomForestClassifier(random_state=0, n_estimators=1000, oob_score=True, n_jobs=-1)\n",
        "# Train model\n",
        "model_3 = randomforest.fit(X_test, y_test)\n",
        "# View out-of-bag-error\n",
        "accuracy4=randomforest.oob_score_\n",
        "print(f\"RandomForestClassifier Accuracy:{accuracy4*100}%\")"
      ],
      "metadata": {
        "colab": {
          "base_uri": "https://localhost:8080/"
        },
        "id": "pvyvci_Y0InG",
        "outputId": "df22d763-4688-4b2e-a602-f0c2956b5c0d"
      },
      "execution_count": 24,
      "outputs": [
        {
          "output_type": "stream",
          "name": "stderr",
          "text": [
            "<ipython-input-24-175ef88774bd>:13: DataConversionWarning: A column-vector y was passed when a 1d array was expected. Please change the shape of y to (n_samples,), for example using ravel().\n",
            "  model_3 = randomforest.fit(X_test, y_test)\n"
          ]
        },
        {
          "output_type": "stream",
          "name": "stdout",
          "text": [
            "RandomForestClassifier Accuracy:82.5%\n"
          ]
        }
      ]
    },
    {
      "cell_type": "code",
      "source": [
        "from sklearn.metrics import confusion_matrix, ConfusionMatrixDisplay, accuracy_score\n",
        "cm = confusion_matrix(y_test, y_pred)\n",
        "sns.heatmap(cm, cmap = 'Reds', annot = True, fmt = 'd', linewidths = 4,  annot_kws = {'fontsize': 13}, \n",
        "                yticklabels = ['Cant buy', 'Buy'], xticklabels = ['Predicted Cant buy', 'Predicted Buy'])\n",
        "plt.yticks(rotation = 0)\n",
        "plt.show()"
      ],
      "metadata": {
        "colab": {
          "base_uri": "https://localhost:8080/",
          "height": 430
        },
        "id": "gk8dxBwPY8Tv",
        "outputId": "c9ea42ff-d6e7-44f0-ae07-78ccd78cd045"
      },
      "execution_count": 25,
      "outputs": [
        {
          "output_type": "display_data",
          "data": {
            "text/plain": [
              "<Figure size 640x480 with 2 Axes>"
            ],
            "image/png": "[encoded data removed]"
          },
          "metadata": {}
        }
      ]
    },
    {
      "cell_type": "code",
      "source": [
        "#So sánh độ chính xác của 3 phương pháp\n",
        "print(f\"DecisionTreeClassifier Accuracy: {accuracy1*100}%\")\n",
        "print(f\"BernoulliNB Accuracy:{accuracy2*100}%\")\n",
        "print(f\"RandomForestClassifier Accuracy:{accuracy4*100}%\")"
      ],
      "metadata": {
        "colab": {
          "base_uri": "https://localhost:8080/"
        },
        "id": "n1FyM3Vua58H",
        "outputId": "72500da6-adcc-4b39-f252-5bee4b645277"
      },
      "execution_count": 26,
      "outputs": [
        {
          "output_type": "stream",
          "name": "stdout",
          "text": [
            "DecisionTreeClassifier Accuracy: 81.66666666666667%\n",
            "BernoulliNB Accuracy:69.16666666666667%\n",
            "RandomForestClassifier Accuracy:82.5%\n"
          ]
        }
      ]
    },
    {
      "cell_type": "markdown",
      "source": [
        "**Cross-validation**"
      ],
      "metadata": {
        "id": "nMkKU4llarg_"
      }
    },
    {
      "cell_type": "code",
      "source": [
        "from sklearn.pipeline import make_pipeline\n",
        "from sklearn.linear_model import LogisticRegression\n",
        "from sklearn.model_selection import KFold, cross_val_score\n",
        "from sklearn.preprocessing import StandardScaler\n",
        "\n",
        "# Split, Train and Test\n",
        "from sklearn.model_selection import train_test_split\n",
        "X = dataframe[Features].values\n",
        "Y = dataframe[PredictClass].values\n",
        "X_train, X_test, y_train, y_test = train_test_split(X, Y, test_size = 0.3, random_state=1)\n",
        "\n",
        "\n",
        "# Create standard scaler object\n",
        "std_scaler = StandardScaler()\n",
        "\n",
        "# Fit standard scaler to training set and transform features\n",
        "train_std = std_scaler.fit_transform(X_train)\n",
        "test_std = std_scaler.transform(X_test)\n",
        "\n",
        "# Create logistic regression object\n",
        "logit = LogisticRegression()\n",
        "\n",
        "# Create a pipeline\n",
        "pipeline = make_pipeline(std_scaler, logit)\n",
        "\n",
        "# Create k-Fold cross-validation\n",
        "kf = KFold(n_splits=10, shuffle=True, random_state=1)\n",
        "\n",
        "# Reshape the features and target\n",
        "X = X.reshape((400, 3))\n",
        "Y = Y.reshape((400,))\n",
        "\n",
        "# Perform k-fold cross-validation\n",
        "cv_results = cross_val_score(pipeline, X, Y, cv=kf, scoring=\"accuracy\", n_jobs=-1)\n",
        "#the mean values of the cross-validation results\n",
        "acc=cv_results.mean()\n",
        "# Print the cross-validation results\n",
        "print(f\"Cross-validation Accuracy:{acc*100}%\")"
      ],
      "metadata": {
        "colab": {
          "base_uri": "https://localhost:8080/"
        },
        "id": "49MxUMc3W2Q5",
        "outputId": "d7a5a8be-2d62-4c70-ca86-2637ea5b89de"
      },
      "execution_count": 27,
      "outputs": [
        {
          "output_type": "stream",
          "name": "stdout",
          "text": [
            "Cross-validation Accuracy:85.25%\n"
          ]
        }
      ]
    },
    {
      "cell_type": "code",
      "source": [
        "# Check for the size of the data\n",
        "X.shape"
      ],
      "metadata": {
        "colab": {
          "base_uri": "https://localhost:8080/"
        },
        "id": "bSTy8mrWZ56g",
        "outputId": "4712669d-c565-4627-d7c6-b442dba4b058"
      },
      "execution_count": 28,
      "outputs": [
        {
          "output_type": "execute_result",
          "data": {
            "text/plain": [
              "(400, 3)"
            ]
          },
          "metadata": {},
          "execution_count": 28
        }
      ]
    },
    {
      "cell_type": "markdown",
      "source": [
        "**K-Nearest Neighbors (K-NN)**"
      ],
      "metadata": {
        "id": "IBtfGbBGa0yW"
      }
    },
    {
      "cell_type": "code",
      "source": [
        "from sklearn.neighbors import KNeighborsRegressor\n",
        "from sklearn.model_selection import train_test_split\n",
        "from sklearn.preprocessing import StandardScaler\n",
        "# Split, Train and Test\n",
        "X = dataframe[Features].values\n",
        "Y = dataframe[PredictClass].values\n",
        "X_train, X_test, y_train, y_test = train_test_split(X, Y, test_size = 0.3, random_state=1)\n",
        "\n",
        "# Standardize the data\n",
        "STD = StandardScaler()\n",
        "TrainStd = STD.fit_transform(X_train)\n",
        "TestStd =  STD.fit_transform(X_test)\n",
        "\n",
        "# Training the KNN model\n",
        "knn = KNeighborsRegressor(n_neighbors=5)\n",
        "model_4 = knn.fit(TrainStd, y_train)\n",
        "\n",
        "# Predicting with the KNN model:\n",
        "y_pred = model_4.predict(test_std)\n",
        "\n",
        "# Calculate and print the accuracy\n",
        "accuracy5 = model_4.score(TestStd, y_test)\n",
        "print(f\"(KNN) Accuracy:{accuracy5*100}%\")"
      ],
      "metadata": {
        "colab": {
          "base_uri": "https://localhost:8080/"
        },
        "id": "XvTMH4iTa0Eu",
        "outputId": "6ee69dee-654f-463b-a670-858d83cad842"
      },
      "execution_count": 29,
      "outputs": [
        {
          "output_type": "stream",
          "name": "stdout",
          "text": [
            "(KNN) Accuracy:58.05555555555555%\n"
          ]
        }
      ]
    },
    {
      "cell_type": "markdown",
      "source": [
        "**Using mean_squared_error (MSE) regression evaluation methods to measure the accuracy of the regression model.**"
      ],
      "metadata": {
        "id": "fk7FGZS-leMA"
      }
    },
    {
      "cell_type": "markdown",
      "source": [
        "mean_squared_error là một độ đo thường được sử dụng để đánh giá mô hình hồi quy (regression). Nó tính toán sai số trung bình bình phương giữa các giá trị dự đoán và giá trị thực tế.\n",
        "\n",
        "Công thức tính mean_squared_error như sau:\n",
        "\n",
        "MSE = (1/n) * Σ(y_true - y_pred)²\n",
        "\n",
        "Trong đó:\n",
        "\n",
        "MSE: Mean Squared Error (Sai số trung bình bình phương)\n",
        "n: Số lượng điểm dữ liệu trong tập kiểm tra\n",
        "y_true: Mảng các giá trị thực tế\n",
        "y_pred: Mảng các giá trị dự đoán\n",
        "Giá trị MSE càng nhỏ, tức là mô hình dự đoán gần với giá trị thực tế. Đây là một độ đo đánh giá sự khác biệt giữa các giá trị dự đoán và giá trị thực tế. Các giá trị MSE sẽ luôn không âm và càng gần 0 thì mô hình càng tốt."
      ],
      "metadata": {
        "id": "8IbR-R8emZCY"
      }
    },
    {
      "cell_type": "code",
      "source": [
        "from sklearn.neighbors import KNeighborsRegressor\n",
        "from sklearn.model_selection import train_test_split\n",
        "from sklearn.preprocessing import StandardScaler\n",
        "from sklearn.metrics import mean_squared_error\n",
        "\n",
        "# Split, Train and Test\n",
        "X = dataframe[Features].values\n",
        "Y = dataframe[PredictClass].values\n",
        "X_train, X_test, y_train, y_test = train_test_split(X, Y, test_size=0.3, random_state=1)\n",
        "\n",
        "# Standardize the data\n",
        "scaler = StandardScaler()\n",
        "train_std = scaler.fit_transform(X_train)\n",
        "test_std = scaler.transform(X_test)\n",
        "\n",
        "# Training the KNN model\n",
        "knn = KNeighborsRegressor(n_neighbors=5)\n",
        "model = knn.fit(train_std, y_train)\n",
        "\n",
        "# Predicting with the KNN model\n",
        "y_pred = model.predict(test_std)\n",
        "\n",
        "# Calculate and print the mean squared error\n",
        "mse = mean_squared_error(y_test, y_pred)\n",
        "print(f\"MSE: {mse}\")\n"
      ],
      "metadata": {
        "colab": {
          "base_uri": "https://localhost:8080/"
        },
        "id": "kpCDwosQk6dx",
        "outputId": "1c91d58a-60cf-4852-ae55-137cce8b3da6"
      },
      "execution_count": 30,
      "outputs": [
        {
          "output_type": "stream",
          "name": "stdout",
          "text": [
            "MSE: 0.11400000000000002\n"
          ]
        }
      ]
    },
    {
      "cell_type": "markdown",
      "source": [
        "**Gradient Boosting Regressor**"
      ],
      "metadata": {
        "id": "XPqUTiXTfqWM"
      }
    },
    {
      "cell_type": "code",
      "source": [
        "from sklearn.ensemble import GradientBoostingRegressor\n",
        "from sklearn.model_selection import train_test_split\n",
        "from sklearn.preprocessing import StandardScaler\n",
        "\n",
        "# Split, Train and Test\n",
        "X = dataframe[Features].values\n",
        "Y = dataframe[PredictClass].values\n",
        "X_train, X_test, y_train, y_test = train_test_split(X, Y, test_size = 0.3, random_state=1)\n",
        "\n",
        "# Standardize the data\n",
        "\n",
        "STD = StandardScaler()\n",
        "TrainStd = STD.fit_transform(X_train)\n",
        "TestStd =  STD.fit_transform(X_test)\n",
        "\n",
        "#  Training the GradientBoostingRegressor model\n",
        "gb = GradientBoostingRegressor(random_state=0)\n",
        "model_5 = gb.fit(TrainStd, y_train)\n",
        "\n",
        "# Predicting with the GradientBoostingRegressor model:\n",
        "Target = model_5.predict(TestStd)\n",
        "\n",
        "# Calculate and print the accuracy\n",
        "accuracy6 = model_5.score(TestStd, y_test)\n",
        "print(f\"GradientBoostingRegressor Accuracy:{accuracy6*100}%\")"
      ],
      "metadata": {
        "colab": {
          "base_uri": "https://localhost:8080/"
        },
        "id": "yj9AcjbPfqmk",
        "outputId": "ac503049-688c-4b17-b955-dd855127bcc7"
      },
      "execution_count": 31,
      "outputs": [
        {
          "output_type": "stream",
          "name": "stdout",
          "text": [
            "GradientBoostingRegressor Accuracy:45.46918569790888%\n"
          ]
        },
        {
          "output_type": "stream",
          "name": "stderr",
          "text": [
            "/usr/local/lib/python3.10/dist-packages/sklearn/ensemble/_gb.py:437: DataConversionWarning: A column-vector y was passed when a 1d array was expected. Please change the shape of y to (n_samples, ), for example using ravel().\n",
            "  y = column_or_1d(y, warn=True)\n"
          ]
        }
      ]
    },
    {
      "cell_type": "markdown",
      "source": [
        "**MSE**"
      ],
      "metadata": {
        "id": "xWN-SZ9Ql7_5"
      }
    },
    {
      "cell_type": "code",
      "source": [
        "from sklearn.neighbors import KNeighborsRegressor\n",
        "from sklearn.model_selection import train_test_split\n",
        "from sklearn.preprocessing import StandardScaler\n",
        "from sklearn.metrics import mean_squared_error\n",
        "\n",
        "# Split, Train and Test\n",
        "X = dataframe[Features].values\n",
        "Y = dataframe[PredictClass].values\n",
        "X_train, X_test, y_train, y_test = train_test_split(X, Y, test_size=0.3, random_state=1)\n",
        "\n",
        "# Standardize the data\n",
        "scaler = StandardScaler()\n",
        "train_std = scaler.fit_transform(X_train)\n",
        "test_std = scaler.transform(X_test)\n",
        "\n",
        "# Training the KNN model\n",
        "gb = GradientBoostingRegressor(random_state=0)\n",
        "model_5 = gb.fit(TrainStd, y_train)\n",
        "\n",
        "# Predicting with the KNN model\n",
        "y_pred = model_5.predict(test_std)\n",
        "\n",
        "# Calculate and print the mean squared error\n",
        "mse = mean_squared_error(y_test, y_pred)\n",
        "print(f\"MSE: {mse}\")\n"
      ],
      "metadata": {
        "colab": {
          "base_uri": "https://localhost:8080/"
        },
        "id": "Ab_01d3UlxiI",
        "outputId": "896409d6-a547-4331-c05f-415666a8f777"
      },
      "execution_count": 32,
      "outputs": [
        {
          "output_type": "stream",
          "name": "stdout",
          "text": [
            "MSE: 0.13301373074815895\n"
          ]
        },
        {
          "output_type": "stream",
          "name": "stderr",
          "text": [
            "/usr/local/lib/python3.10/dist-packages/sklearn/ensemble/_gb.py:437: DataConversionWarning: A column-vector y was passed when a 1d array was expected. Please change the shape of y to (n_samples, ), for example using ravel().\n",
            "  y = column_or_1d(y, warn=True)\n"
          ]
        }
      ]
    },
    {
      "cell_type": "markdown",
      "source": [
        "**AdaBoost Regressor**"
      ],
      "metadata": {
        "id": "BZIe0npagNUM"
      }
    },
    {
      "cell_type": "code",
      "source": [
        "from sklearn.ensemble import AdaBoostRegressor\n",
        "from sklearn.model_selection import train_test_split\n",
        "from sklearn.preprocessing import StandardScaler\n",
        "\n",
        "# Split, Train and Test\n",
        "X = dataframe[Features].values\n",
        "Y = dataframe[PredictClass].values\n",
        "X_train, X_test, y_train, y_test = train_test_split(X, Y, test_size = 0.3, random_state=1)\n",
        "\n",
        "# Standardize the data\n",
        "STD = StandardScaler()\n",
        "TrainStd = STD.fit_transform(X_train)\n",
        "TestStd =  STD.fit_transform(X_test)\n",
        "\n",
        "# Training the AdaBoostRegressor model\n",
        "adaboost = AdaBoostRegressor(random_state=0)\n",
        "model_6 = adaboost.fit(TrainStd, y_train)\n",
        "\n",
        "# Predicting with the AdaBoostRegressor model\n",
        "Target = model_6.predict(TestStd)\n",
        "\n",
        "# Calculate and print the accuracy\n",
        "accuracy7 = model_6.score(TestStd, y_test)\n",
        "print(f\"AdaBoostRegressor Accuracy:{accuracy7*100}%\")"
      ],
      "metadata": {
        "colab": {
          "base_uri": "https://localhost:8080/"
        },
        "id": "ifVYlmPCgNbs",
        "outputId": "a00e5a6d-f393-4b04-d298-569fb072042a"
      },
      "execution_count": 33,
      "outputs": [
        {
          "output_type": "stream",
          "name": "stdout",
          "text": [
            "AdaBoostRegressor Accuracy:53.53116974320036%\n"
          ]
        },
        {
          "output_type": "stream",
          "name": "stderr",
          "text": [
            "/usr/local/lib/python3.10/dist-packages/sklearn/utils/validation.py:1143: DataConversionWarning: A column-vector y was passed when a 1d array was expected. Please change the shape of y to (n_samples, ), for example using ravel().\n",
            "  y = column_or_1d(y, warn=True)\n"
          ]
        }
      ]
    },
    {
      "cell_type": "markdown",
      "source": [
        "**MSE**"
      ],
      "metadata": {
        "id": "_6pBAl3emN8o"
      }
    },
    {
      "cell_type": "code",
      "source": [
        "from sklearn.neighbors import KNeighborsRegressor\n",
        "from sklearn.model_selection import train_test_split\n",
        "from sklearn.preprocessing import StandardScaler\n",
        "from sklearn.metrics import mean_squared_error\n",
        "\n",
        "# Split, Train and Test\n",
        "X = dataframe[Features].values\n",
        "Y = dataframe[PredictClass].values\n",
        "X_train, X_test, y_train, y_test = train_test_split(X, Y, test_size=0.3, random_state=1)\n",
        "\n",
        "# Standardize the data\n",
        "scaler = StandardScaler()\n",
        "train_std = scaler.fit_transform(X_train)\n",
        "test_std = scaler.transform(X_test)\n",
        "\n",
        "# Training the KNN model\n",
        "adaboost = AdaBoostRegressor(random_state=0)\n",
        "model_6 = adaboost.fit(TrainStd, y_train)\n",
        "\n",
        "# Predicting with the KNN model\n",
        "y_pred = model_6.predict(test_std)\n",
        "\n",
        "# Calculate and print the mean squared error\n",
        "mse = mean_squared_error(y_test, y_pred)\n",
        "print(f\"MSE: {mse}\")\n"
      ],
      "metadata": {
        "colab": {
          "base_uri": "https://localhost:8080/"
        },
        "id": "8daHnYDkmBgx",
        "outputId": "b854c9a6-bfa8-4271-e5d1-fa4c7dbb4c0f"
      },
      "execution_count": 34,
      "outputs": [
        {
          "output_type": "stream",
          "name": "stdout",
          "text": [
            "MSE: 0.09769587647900475\n"
          ]
        },
        {
          "output_type": "stream",
          "name": "stderr",
          "text": [
            "/usr/local/lib/python3.10/dist-packages/sklearn/utils/validation.py:1143: DataConversionWarning: A column-vector y was passed when a 1d array was expected. Please change the shape of y to (n_samples, ), for example using ravel().\n",
            "  y = column_or_1d(y, warn=True)\n"
          ]
        }
      ]
    },
    {
      "cell_type": "code",
      "source": [
        "#So sánh độ chính xác\n",
        "print(f\"DecisionTreeClassifier Accuracy: {accuracy1*100}%\")\n",
        "print(f\"BernoulliNB Accuracy:{accuracy2*100}%\")\n",
        "print(f\"RandomForestClassifier Accuracy:{accuracy3*100}%\")\n",
        "print(f\"RandomForestClassifier Accuracy:{accuracy4*100}%\")\n",
        "print(f\"Cross-validation Accuracy:{acc*100}%\")\n",
        "print(f\"(KNN) Accuracy:{accuracy5*100}%\")\n",
        "print(f\"GradientBoostingRegressor Accuracy:{accuracy6*100}%\")\n",
        "print(f\"AdaBoostRegressor Accuracy:{accuracy7*100}%\")"
      ],
      "metadata": {
        "colab": {
          "base_uri": "https://localhost:8080/"
        },
        "id": "sJn2vaJC8sQo",
        "outputId": "533c3e77-c087-4194-cd72-ef424c9aa063"
      },
      "execution_count": 38,
      "outputs": [
        {
          "output_type": "stream",
          "name": "stdout",
          "text": [
            "DecisionTreeClassifier Accuracy: 81.66666666666667%\n",
            "BernoulliNB Accuracy:69.16666666666667%\n",
            "RandomForestClassifier Accuracy:85.83333333333333%\n",
            "RandomForestClassifier Accuracy:82.5%\n",
            "Cross-validation Accuracy:85.25%\n",
            "(KNN) Accuracy:58.05555555555555%\n",
            "GradientBoostingRegressor Accuracy:45.46918569790888%\n",
            "AdaBoostRegressor Accuracy:53.53116974320036%\n"
          ]
        }
      ]
    }
  ]
}